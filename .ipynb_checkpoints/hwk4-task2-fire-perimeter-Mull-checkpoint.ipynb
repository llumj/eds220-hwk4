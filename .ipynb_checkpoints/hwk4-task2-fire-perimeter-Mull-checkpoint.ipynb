{
 "cells": [
  {
   "cell_type": "markdown",
   "id": "c7c0f8a0-ee0e-454a-bec7-d2a81dc44ffc",
   "metadata": {
    "tags": []
   },
   "source": [
    "## Title: Thomas Fire False Color Analysis Project\n",
    "###### Author: Joshua Mull\n",
    "###### Github: https://github.com/llumj/eds220-hwk4"
   ]
  },
  {
   "cell_type": "markdown",
   "id": "7037d1c6-94fd-4cbe-a853-1192df4e3966",
   "metadata": {},
   "source": [
    "### About \n",
    "#### Purpose:\n",
    "Subsetting a geodatabase retrieved from CalFire to include just the Thomas Fire boundary from 2017\n",
    "#### Highlights: \n",
    "Use geopandas to read in gdb file. Filter the dataset for Thomas Fire 2017 only. Export to data folder.\n",
    "#### About the data: \n",
    "A geodatabase containing all fire boundaries for the state of Califronia, obtained from the California Department of Forestry and Fire Protection (CAL FIRE) https://www.fire.ca.gov and a Shapefile of the Thomas Fire 2017 boundary.\n",
    "#### References:\n",
    "Thomas Fire Perimeter. Retrieved from https://www.fire.ca.gov\n"
   ]
  },
  {
   "cell_type": "markdown",
   "id": "9d13e94d-700f-485f-b2ac-71d0158febdf",
   "metadata": {},
   "source": [
    "#### Import Libraries "
   ]
  },
  {
   "cell_type": "code",
   "execution_count": 1,
   "id": "a71ecd48-5407-4b70-8a58-45cb4a08aa94",
   "metadata": {
    "tags": []
   },
   "outputs": [],
   "source": [
    "import os\n",
    "import numpy as np\n",
    "import matplotlib.pyplot as plt\n",
    "import geopandas as gpd"
   ]
  },
  {
   "cell_type": "markdown",
   "id": "f8353589-d1ee-46ee-b0a6-67cdad4cc3aa",
   "metadata": {},
   "source": [
    "#### Read file"
   ]
  },
  {
   "cell_type": "code",
   "execution_count": null,
   "id": "568b04b8-2819-4c76-8152-7fbd6a4b6717",
   "metadata": {},
   "outputs": [
    {
     "name": "stderr",
     "output_type": "stream",
     "text": [
      "ERROR 1: PROJ: proj_create_from_database: Open of /opt/anaconda3/envs/eds220-env/share/proj failed\n"
     ]
    },
    {
     "data": {
      "text/html": [
       "<div>\n",
       "<style scoped>\n",
       "    .dataframe tbody tr th:only-of-type {\n",
       "        vertical-align: middle;\n",
       "    }\n",
       "\n",
       "    .dataframe tbody tr th {\n",
       "        vertical-align: top;\n",
       "    }\n",
       "\n",
       "    .dataframe thead th {\n",
       "        text-align: right;\n",
       "    }\n",
       "</style>\n",
       "<table border=\"1\" class=\"dataframe\">\n",
       "  <thead>\n",
       "    <tr style=\"text-align: right;\">\n",
       "      <th></th>\n",
       "      <th>YEAR_</th>\n",
       "      <th>STATE</th>\n",
       "      <th>AGENCY</th>\n",
       "      <th>UNIT_ID</th>\n",
       "      <th>FIRE_NAME</th>\n",
       "      <th>INC_NUM</th>\n",
       "      <th>IRWINID</th>\n",
       "      <th>ALARM_DATE</th>\n",
       "      <th>CONT_DATE</th>\n",
       "      <th>C_METHOD</th>\n",
       "      <th>CAUSE</th>\n",
       "      <th>OBJECTIVE</th>\n",
       "      <th>COMPLEX_NAME</th>\n",
       "      <th>COMPLEX_ID</th>\n",
       "      <th>COMMENTS</th>\n",
       "      <th>FIRE_NUM</th>\n",
       "      <th>Shape_Length</th>\n",
       "      <th>Shape_Area</th>\n",
       "      <th>geometry</th>\n",
       "    </tr>\n",
       "  </thead>\n",
       "  <tbody>\n",
       "    <tr>\n",
       "      <th>0</th>\n",
       "      <td>2023.0</td>\n",
       "      <td>CA</td>\n",
       "      <td>CDF</td>\n",
       "      <td>SKU</td>\n",
       "      <td>WHITWORTH</td>\n",
       "      <td>00004808</td>\n",
       "      <td>{7985848C-0AC2-4BA4-8F0E-29F778652E61}</td>\n",
       "      <td>2023-06-17T00:00:00+00:00</td>\n",
       "      <td>2023-06-17T00:00:00+00:00</td>\n",
       "      <td>1.0</td>\n",
       "      <td>5.0</td>\n",
       "      <td>1.0</td>\n",
       "      <td>None</td>\n",
       "      <td>None</td>\n",
       "      <td>None</td>\n",
       "      <td>None</td>\n",
       "      <td>933.907127</td>\n",
       "      <td>23184.946763</td>\n",
       "      <td>MULTIPOLYGON (((-243242.555 394267.371, -24324...</td>\n",
       "    </tr>\n",
       "    <tr>\n",
       "      <th>1</th>\n",
       "      <td>2023.0</td>\n",
       "      <td>CA</td>\n",
       "      <td>LRA</td>\n",
       "      <td>BTU</td>\n",
       "      <td>KAISER</td>\n",
       "      <td>00010225</td>\n",
       "      <td>{43EBCC88-B3AC-48EB-8EF5-417FE0939CCF}</td>\n",
       "      <td>2023-06-02T00:00:00+00:00</td>\n",
       "      <td>2023-06-02T00:00:00+00:00</td>\n",
       "      <td>1.0</td>\n",
       "      <td>5.0</td>\n",
       "      <td>1.0</td>\n",
       "      <td>None</td>\n",
       "      <td>None</td>\n",
       "      <td>None</td>\n",
       "      <td>None</td>\n",
       "      <td>986.343353</td>\n",
       "      <td>55046.898792</td>\n",
       "      <td>MULTIPOLYGON (((-167826.147 203275.612, -16782...</td>\n",
       "    </tr>\n",
       "    <tr>\n",
       "      <th>2</th>\n",
       "      <td>2023.0</td>\n",
       "      <td>CA</td>\n",
       "      <td>CDF</td>\n",
       "      <td>AEU</td>\n",
       "      <td>JACKSON</td>\n",
       "      <td>00017640</td>\n",
       "      <td>{B64E1355-BF1D-441A-95D0-BC1FBB93483B}</td>\n",
       "      <td>2023-07-01T00:00:00+00:00</td>\n",
       "      <td>2023-07-02T00:00:00+00:00</td>\n",
       "      <td>1.0</td>\n",
       "      <td>2.0</td>\n",
       "      <td>1.0</td>\n",
       "      <td>None</td>\n",
       "      <td>None</td>\n",
       "      <td>None</td>\n",
       "      <td>None</td>\n",
       "      <td>2115.572740</td>\n",
       "      <td>112561.147688</td>\n",
       "      <td>MULTIPOLYGON (((-79176.443 31393.490, -78959.0...</td>\n",
       "    </tr>\n",
       "    <tr>\n",
       "      <th>3</th>\n",
       "      <td>2023.0</td>\n",
       "      <td>CA</td>\n",
       "      <td>CDF</td>\n",
       "      <td>AEU</td>\n",
       "      <td>CARBON</td>\n",
       "      <td>00018821</td>\n",
       "      <td>{CB41DB0A-E4B1-489D-A4EA-738F2CD6DB3B}</td>\n",
       "      <td>2023-07-11T00:00:00+00:00</td>\n",
       "      <td>2023-07-11T00:00:00+00:00</td>\n",
       "      <td>1.0</td>\n",
       "      <td>9.0</td>\n",
       "      <td>1.0</td>\n",
       "      <td>None</td>\n",
       "      <td>None</td>\n",
       "      <td>None</td>\n",
       "      <td>None</td>\n",
       "      <td>1994.866526</td>\n",
       "      <td>237794.210367</td>\n",
       "      <td>MULTIPOLYGON (((-85936.934 47921.886, -85856.4...</td>\n",
       "    </tr>\n",
       "    <tr>\n",
       "      <th>4</th>\n",
       "      <td>2023.0</td>\n",
       "      <td>CA</td>\n",
       "      <td>CDF</td>\n",
       "      <td>AEU</td>\n",
       "      <td>LIBERTY</td>\n",
       "      <td>00018876</td>\n",
       "      <td>{F83F70A4-07A7-40B8-BD51-10CCC1C30D63}</td>\n",
       "      <td>2023-07-11T00:00:00+00:00</td>\n",
       "      <td>2023-07-12T00:00:00+00:00</td>\n",
       "      <td>1.0</td>\n",
       "      <td>14.0</td>\n",
       "      <td>1.0</td>\n",
       "      <td>None</td>\n",
       "      <td>None</td>\n",
       "      <td>None</td>\n",
       "      <td>None</td>\n",
       "      <td>4008.305800</td>\n",
       "      <td>287241.810389</td>\n",
       "      <td>MULTIPOLYGON (((-86427.836 26461.613, -86436.1...</td>\n",
       "    </tr>\n",
       "  </tbody>\n",
       "</table>\n",
       "</div>"
      ],
      "text/plain": [
       "    YEAR_ STATE AGENCY UNIT_ID  FIRE_NAME   INC_NUM  \\\n",
       "0  2023.0    CA    CDF     SKU  WHITWORTH  00004808   \n",
       "1  2023.0    CA    LRA     BTU     KAISER  00010225   \n",
       "2  2023.0    CA    CDF     AEU    JACKSON  00017640   \n",
       "3  2023.0    CA    CDF     AEU     CARBON  00018821   \n",
       "4  2023.0    CA    CDF     AEU    LIBERTY  00018876   \n",
       "\n",
       "                                  IRWINID                 ALARM_DATE  \\\n",
       "0  {7985848C-0AC2-4BA4-8F0E-29F778652E61}  2023-06-17T00:00:00+00:00   \n",
       "1  {43EBCC88-B3AC-48EB-8EF5-417FE0939CCF}  2023-06-02T00:00:00+00:00   \n",
       "2  {B64E1355-BF1D-441A-95D0-BC1FBB93483B}  2023-07-01T00:00:00+00:00   \n",
       "3  {CB41DB0A-E4B1-489D-A4EA-738F2CD6DB3B}  2023-07-11T00:00:00+00:00   \n",
       "4  {F83F70A4-07A7-40B8-BD51-10CCC1C30D63}  2023-07-11T00:00:00+00:00   \n",
       "\n",
       "                   CONT_DATE  C_METHOD  CAUSE  OBJECTIVE COMPLEX_NAME  \\\n",
       "0  2023-06-17T00:00:00+00:00       1.0    5.0        1.0         None   \n",
       "1  2023-06-02T00:00:00+00:00       1.0    5.0        1.0         None   \n",
       "2  2023-07-02T00:00:00+00:00       1.0    2.0        1.0         None   \n",
       "3  2023-07-11T00:00:00+00:00       1.0    9.0        1.0         None   \n",
       "4  2023-07-12T00:00:00+00:00       1.0   14.0        1.0         None   \n",
       "\n",
       "  COMPLEX_ID COMMENTS FIRE_NUM  Shape_Length     Shape_Area  \\\n",
       "0       None     None     None    933.907127   23184.946763   \n",
       "1       None     None     None    986.343353   55046.898792   \n",
       "2       None     None     None   2115.572740  112561.147688   \n",
       "3       None     None     None   1994.866526  237794.210367   \n",
       "4       None     None     None   4008.305800  287241.810389   \n",
       "\n",
       "                                            geometry  \n",
       "0  MULTIPOLYGON (((-243242.555 394267.371, -24324...  \n",
       "1  MULTIPOLYGON (((-167826.147 203275.612, -16782...  \n",
       "2  MULTIPOLYGON (((-79176.443 31393.490, -78959.0...  \n",
       "3  MULTIPOLYGON (((-85936.934 47921.886, -85856.4...  \n",
       "4  MULTIPOLYGON (((-86427.836 26461.613, -86436.1...  "
      ]
     },
     "execution_count": 2,
     "metadata": {},
     "output_type": "execute_result"
    }
   ],
   "source": [
    "# Read in gdb file with geopandas. Save as variable fire_bounds\n",
    "fire_bound = gpd.read_file(\"data/fire23-1gdb/fire23_1.gdb\")"
   ]
  },
  {
   "cell_type": "markdown",
   "id": "7462533e-910c-44b4-89fd-4f9c49887ccc",
   "metadata": {},
   "source": [
    "#### Quick Data Exploration"
   ]
  },
  {
   "cell_type": "code",
   "execution_count": 19,
   "id": "046997fa-c128-4188-ad6c-7b79398e87d7",
   "metadata": {
    "tags": []
   },
   "outputs": [
    {
     "name": "stdout",
     "output_type": "stream",
     "text": [
      "    YEAR_ STATE AGENCY UNIT_ID  FIRE_NAME   INC_NUM  \\\n",
      "0  2023.0    CA    CDF     SKU  WHITWORTH  00004808   \n",
      "1  2023.0    CA    LRA     BTU     KAISER  00010225   \n",
      "2  2023.0    CA    CDF     AEU    JACKSON  00017640   \n",
      "3  2023.0    CA    CDF     AEU     CARBON  00018821   \n",
      "4  2023.0    CA    CDF     AEU    LIBERTY  00018876   \n",
      "\n",
      "                                  IRWINID                 ALARM_DATE  \\\n",
      "0  {7985848C-0AC2-4BA4-8F0E-29F778652E61}  2023-06-17T00:00:00+00:00   \n",
      "1  {43EBCC88-B3AC-48EB-8EF5-417FE0939CCF}  2023-06-02T00:00:00+00:00   \n",
      "2  {B64E1355-BF1D-441A-95D0-BC1FBB93483B}  2023-07-01T00:00:00+00:00   \n",
      "3  {CB41DB0A-E4B1-489D-A4EA-738F2CD6DB3B}  2023-07-11T00:00:00+00:00   \n",
      "4  {F83F70A4-07A7-40B8-BD51-10CCC1C30D63}  2023-07-11T00:00:00+00:00   \n",
      "\n",
      "                   CONT_DATE  C_METHOD  CAUSE  OBJECTIVE COMPLEX_NAME  \\\n",
      "0  2023-06-17T00:00:00+00:00       1.0    5.0        1.0         None   \n",
      "1  2023-06-02T00:00:00+00:00       1.0    5.0        1.0         None   \n",
      "2  2023-07-02T00:00:00+00:00       1.0    2.0        1.0         None   \n",
      "3  2023-07-11T00:00:00+00:00       1.0    9.0        1.0         None   \n",
      "4  2023-07-12T00:00:00+00:00       1.0   14.0        1.0         None   \n",
      "\n",
      "  COMPLEX_ID COMMENTS FIRE_NUM  Shape_Length     Shape_Area  \\\n",
      "0       None     None     None    933.907127   23184.946763   \n",
      "1       None     None     None    986.343353   55046.898792   \n",
      "2       None     None     None   2115.572740  112561.147688   \n",
      "3       None     None     None   1994.866526  237794.210367   \n",
      "4       None     None     None   4008.305800  287241.810389   \n",
      "\n",
      "                                            geometry  \n",
      "0  MULTIPOLYGON (((-243242.555 394267.371, -24324...  \n",
      "1  MULTIPOLYGON (((-167826.147 203275.612, -16782...  \n",
      "2  MULTIPOLYGON (((-79176.443 31393.490, -78959.0...  \n",
      "3  MULTIPOLYGON (((-85936.934 47921.886, -85856.4...  \n",
      "4  MULTIPOLYGON (((-86427.836 26461.613, -86436.1...  \n",
      "EPSG:3310\n",
      "The CRS is projected.\n"
     ]
    }
   ],
   "source": [
    "# Check the dataset\n",
    "print(fire_bound.head())\n",
    "\n",
    "# Check the CRS \n",
    "print(fire_bound.crs)\n",
    "\n",
    "# Check if the CRS is projected or geographic\n",
    "if fire_bound.crs.is_projected:\n",
    "    print(\"The CRS is projected.\")\n",
    "elif fire_bound.crs.is_geographic:\n",
    "    print(\"The CRS is geographic.\")"
   ]
  },
  {
   "cell_type": "markdown",
   "id": "4aa64fa6-d309-4d1c-acd9-6afa7c96939b",
   "metadata": {},
   "source": [
    "#### Data Exploration Summary "
   ]
  },
  {
   "cell_type": "markdown",
   "id": "8896ae73-a65d-419f-bf59-851b407f1c38",
   "metadata": {},
   "source": [
    "First I wanted to look at the head of the data. This way I can examine column names for reference later and what values are stored in each series. For example, are there capital letters? spaces? unusual characters in columns? Then, I checked the CRS, which is 3310, a common CRS used in California for spatial data. Lastly, I learned that the CRS is projected."
   ]
  },
  {
   "cell_type": "markdown",
   "id": "0a15ea3e-a7d8-4450-8bed-49bc81df3f4d",
   "metadata": {},
   "source": [
    "#### Filter Data for Thomas Fire in 2017"
   ]
  },
  {
   "cell_type": "code",
   "execution_count": 7,
   "id": "acd029dc-6249-4bbb-934c-a0411a8c9d65",
   "metadata": {
    "tags": []
   },
   "outputs": [
    {
     "data": {
      "text/html": [
       "<div>\n",
       "<style scoped>\n",
       "    .dataframe tbody tr th:only-of-type {\n",
       "        vertical-align: middle;\n",
       "    }\n",
       "\n",
       "    .dataframe tbody tr th {\n",
       "        vertical-align: top;\n",
       "    }\n",
       "\n",
       "    .dataframe thead th {\n",
       "        text-align: right;\n",
       "    }\n",
       "</style>\n",
       "<table border=\"1\" class=\"dataframe\">\n",
       "  <thead>\n",
       "    <tr style=\"text-align: right;\">\n",
       "      <th></th>\n",
       "      <th>YEAR_</th>\n",
       "      <th>STATE</th>\n",
       "      <th>AGENCY</th>\n",
       "      <th>UNIT_ID</th>\n",
       "      <th>FIRE_NAME</th>\n",
       "      <th>INC_NUM</th>\n",
       "      <th>IRWINID</th>\n",
       "      <th>ALARM_DATE</th>\n",
       "      <th>CONT_DATE</th>\n",
       "      <th>C_METHOD</th>\n",
       "      <th>CAUSE</th>\n",
       "      <th>OBJECTIVE</th>\n",
       "      <th>COMPLEX_NAME</th>\n",
       "      <th>COMPLEX_ID</th>\n",
       "      <th>COMMENTS</th>\n",
       "      <th>FIRE_NUM</th>\n",
       "      <th>Shape_Length</th>\n",
       "      <th>Shape_Area</th>\n",
       "      <th>geometry</th>\n",
       "    </tr>\n",
       "  </thead>\n",
       "  <tbody>\n",
       "    <tr>\n",
       "      <th>2654</th>\n",
       "      <td>2017.0</td>\n",
       "      <td>CA</td>\n",
       "      <td>USF</td>\n",
       "      <td>VNC</td>\n",
       "      <td>THOMAS</td>\n",
       "      <td>00003583</td>\n",
       "      <td></td>\n",
       "      <td>2017-12-04T00:00:00+00:00</td>\n",
       "      <td>2018-01-12T00:00:00+00:00</td>\n",
       "      <td>7.0</td>\n",
       "      <td>9.0</td>\n",
       "      <td>1.0</td>\n",
       "      <td>None</td>\n",
       "      <td>None</td>\n",
       "      <td>CONT_DATE based on Inciweb</td>\n",
       "      <td>None</td>\n",
       "      <td>445282.444798</td>\n",
       "      <td>1.140367e+09</td>\n",
       "      <td>MULTIPOLYGON (((34867.386 -396856.457, 34819.3...</td>\n",
       "    </tr>\n",
       "  </tbody>\n",
       "</table>\n",
       "</div>"
      ],
      "text/plain": [
       "       YEAR_ STATE AGENCY UNIT_ID FIRE_NAME   INC_NUM IRWINID  \\\n",
       "2654  2017.0    CA    USF     VNC    THOMAS  00003583           \n",
       "\n",
       "                     ALARM_DATE                  CONT_DATE  C_METHOD  CAUSE  \\\n",
       "2654  2017-12-04T00:00:00+00:00  2018-01-12T00:00:00+00:00       7.0    9.0   \n",
       "\n",
       "      OBJECTIVE COMPLEX_NAME COMPLEX_ID                    COMMENTS FIRE_NUM  \\\n",
       "2654        1.0         None       None  CONT_DATE based on Inciweb     None   \n",
       "\n",
       "       Shape_Length    Shape_Area  \\\n",
       "2654  445282.444798  1.140367e+09   \n",
       "\n",
       "                                               geometry  \n",
       "2654  MULTIPOLYGON (((34867.386 -396856.457, 34819.3...  "
      ]
     },
     "execution_count": 7,
     "metadata": {},
     "output_type": "execute_result"
    }
   ],
   "source": [
    "# Filter for 'THOMAS' and the year 2017, save as vairable thomas_fire\n",
    "thomas_fire = fire_bound[(fire_bound['FIRE_NAME'] == 'THOMAS') & (fire_bound['YEAR_'] == 2017.0)]\n",
    "\n",
    "# Check the dataset\n",
    "thomas_fire.head()"
   ]
  },
  {
   "cell_type": "code",
   "execution_count": 5,
   "id": "1227e46d-52ef-4e2e-93f1-0061070ba855",
   "metadata": {
    "tags": []
   },
   "outputs": [
    {
     "data": {
      "text/plain": [
       "<Axes: >"
      ]
     },
     "execution_count": 5,
     "metadata": {},
     "output_type": "execute_result"
    },
    {
     "data": {
      "image/png": "[encoded data removed]",
      "text/plain": [
       "<Figure size 640x480 with 1 Axes>"
      ]
     },
     "metadata": {},
     "output_type": "display_data"
    }
   ],
   "source": [
    "# Check the fire perimeter by plotting \n",
    "thomas_fire.plot()"
   ]
  },
  {
   "cell_type": "markdown",
   "id": "1c43828c-214c-44ce-bd8c-d96cdc3e40f8",
   "metadata": {},
   "source": [
    "#### Export the Thomas Fire boundary "
   ]
  },
  {
   "cell_type": "code",
   "execution_count": 6,
   "id": "60852cef-4255-41b4-b75b-fceb2062b20d",
   "metadata": {},
   "outputs": [
    {
     "name": "stderr",
     "output_type": "stream",
     "text": [
      "/tmp/ipykernel_2364546/2262642917.py:5: UserWarning: Column names longer than 10 characters will be truncated when saved to ESRI Shapefile.\n",
      "  thomas_fire.to_file(output_path)\n"
     ]
    }
   ],
   "source": [
    "# Specify the output path where you want to save the new shapefile\n",
    "output_path = \"data/Thomas_Fire.shp\"\n",
    "\n",
    "# Save the filtered GeoDataFrame to the specified path\n",
    "thomas_fire.to_file(output_path)"
   ]
  },
  {
   "cell_type": "markdown",
   "id": "88296d4d-6b8e-4162-9994-dea5b2c50fd7",
   "metadata": {},
   "source": [
    "#### Reasoning for File Format"
   ]
  },
  {
   "cell_type": "markdown",
   "id": "48f06ca0-8b19-4d44-8c50-c82145c7f3be",
   "metadata": {},
   "source": [
    "I chose to use a shapefile for several reasons, the first being because I am more familiar with that file type. Second, is that the format is straightforward and easy to use when working with vector data."
   ]
  }
 ],
 "metadata": {
  "kernelspec": {
   "display_name": "Anaconda 3 (EDS220)",
   "language": "python",
   "name": "eds220-env"
  },
  "language_info": {
   "codemirror_mode": {
    "name": "ipython",
    "version": 3
   },
   "file_extension": ".py",
   "mimetype": "text/x-python",
   "name": "python",
   "nbconvert_exporter": "python",
   "pygments_lexer": "ipython3",
   "version": "3.11.4"
  }
 },
 "nbformat": 4,
 "nbformat_minor": 5
}
